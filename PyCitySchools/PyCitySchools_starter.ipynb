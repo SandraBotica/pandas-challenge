{
 "cells": [
  {
   "cell_type": "markdown",
   "metadata": {},
   "source": [
    "### Note\n",
    "* Instructions have been included for each segment. You do not have to follow them exactly, but they are included to help you think through the steps."
   ]
  },
  {
   "cell_type": "code",
   "execution_count": 316,
   "metadata": {},
   "outputs": [],
   "source": [
    "# Dependencies and Setup\n",
    "import pandas as pd\n",
    "\n",
    "# File to Load (Remember to Change These)\n",
    "school_data_to_load = \"Resources/schools_complete.csv\"\n",
    "student_data_to_load = \"Resources/students_complete.csv\"\n",
    "\n",
    "# Read School and Student Data File and store into Pandas DataFrames\n",
    "school_data_df = pd.read_csv(school_data_to_load)\n",
    "student_data_df = pd.read_csv(student_data_to_load)\n",
    "\n",
    "# Combine the data into a single dataset.  \n",
    "school_data_complete_df = pd.merge(student_data_df, school_data_df, how=\"left\", on=[\"school_name\", \"school_name\"])\n"
   ]
  },
  {
   "cell_type": "code",
   "execution_count": 317,
   "metadata": {},
   "outputs": [
    {
     "data": {
      "text/plain": [
       "Index(['Student ID', 'student_name', 'gender', 'year', 'school_name',\n",
       "       'reading_score', 'maths_score', 'School ID', 'type', 'size', 'budget'],\n",
       "      dtype='object')"
      ]
     },
     "execution_count": 317,
     "metadata": {},
     "output_type": "execute_result"
    }
   ],
   "source": [
    "school_data_complete_df.columns"
   ]
  },
  {
   "cell_type": "code",
   "execution_count": 318,
   "metadata": {},
   "outputs": [
    {
     "data": {
      "text/html": [
       "<div>\n",
       "<style scoped>\n",
       "    .dataframe tbody tr th:only-of-type {\n",
       "        vertical-align: middle;\n",
       "    }\n",
       "\n",
       "    .dataframe tbody tr th {\n",
       "        vertical-align: top;\n",
       "    }\n",
       "\n",
       "    .dataframe thead th {\n",
       "        text-align: right;\n",
       "    }\n",
       "</style>\n",
       "<table border=\"1\" class=\"dataframe\">\n",
       "  <thead>\n",
       "    <tr style=\"text-align: right;\">\n",
       "      <th></th>\n",
       "      <th>Student ID</th>\n",
       "      <th>student_name</th>\n",
       "      <th>gender</th>\n",
       "      <th>year</th>\n",
       "      <th>school_name</th>\n",
       "      <th>reading_score</th>\n",
       "      <th>maths_score</th>\n",
       "      <th>School ID</th>\n",
       "      <th>type</th>\n",
       "      <th>size</th>\n",
       "      <th>budget</th>\n",
       "    </tr>\n",
       "  </thead>\n",
       "  <tbody>\n",
       "    <tr>\n",
       "      <th>0</th>\n",
       "      <td>0</td>\n",
       "      <td>Paul Bradley</td>\n",
       "      <td>M</td>\n",
       "      <td>9</td>\n",
       "      <td>Huang High School</td>\n",
       "      <td>96</td>\n",
       "      <td>94</td>\n",
       "      <td>0</td>\n",
       "      <td>Government</td>\n",
       "      <td>2917</td>\n",
       "      <td>1910635</td>\n",
       "    </tr>\n",
       "    <tr>\n",
       "      <th>1</th>\n",
       "      <td>1</td>\n",
       "      <td>Victor Smith</td>\n",
       "      <td>M</td>\n",
       "      <td>12</td>\n",
       "      <td>Huang High School</td>\n",
       "      <td>90</td>\n",
       "      <td>43</td>\n",
       "      <td>0</td>\n",
       "      <td>Government</td>\n",
       "      <td>2917</td>\n",
       "      <td>1910635</td>\n",
       "    </tr>\n",
       "    <tr>\n",
       "      <th>2</th>\n",
       "      <td>2</td>\n",
       "      <td>Kevin Rodriguez</td>\n",
       "      <td>M</td>\n",
       "      <td>12</td>\n",
       "      <td>Huang High School</td>\n",
       "      <td>41</td>\n",
       "      <td>76</td>\n",
       "      <td>0</td>\n",
       "      <td>Government</td>\n",
       "      <td>2917</td>\n",
       "      <td>1910635</td>\n",
       "    </tr>\n",
       "    <tr>\n",
       "      <th>3</th>\n",
       "      <td>3</td>\n",
       "      <td>Richard Scott</td>\n",
       "      <td>M</td>\n",
       "      <td>12</td>\n",
       "      <td>Huang High School</td>\n",
       "      <td>89</td>\n",
       "      <td>86</td>\n",
       "      <td>0</td>\n",
       "      <td>Government</td>\n",
       "      <td>2917</td>\n",
       "      <td>1910635</td>\n",
       "    </tr>\n",
       "    <tr>\n",
       "      <th>4</th>\n",
       "      <td>4</td>\n",
       "      <td>Bonnie Ray</td>\n",
       "      <td>F</td>\n",
       "      <td>9</td>\n",
       "      <td>Huang High School</td>\n",
       "      <td>87</td>\n",
       "      <td>69</td>\n",
       "      <td>0</td>\n",
       "      <td>Government</td>\n",
       "      <td>2917</td>\n",
       "      <td>1910635</td>\n",
       "    </tr>\n",
       "  </tbody>\n",
       "</table>\n",
       "</div>"
      ],
      "text/plain": [
       "   Student ID     student_name gender  year        school_name  reading_score  \\\n",
       "0           0     Paul Bradley      M     9  Huang High School             96   \n",
       "1           1     Victor Smith      M    12  Huang High School             90   \n",
       "2           2  Kevin Rodriguez      M    12  Huang High School             41   \n",
       "3           3    Richard Scott      M    12  Huang High School             89   \n",
       "4           4       Bonnie Ray      F     9  Huang High School             87   \n",
       "\n",
       "   maths_score  School ID        type  size   budget  \n",
       "0           94          0  Government  2917  1910635  \n",
       "1           43          0  Government  2917  1910635  \n",
       "2           76          0  Government  2917  1910635  \n",
       "3           86          0  Government  2917  1910635  \n",
       "4           69          0  Government  2917  1910635  "
      ]
     },
     "execution_count": 318,
     "metadata": {},
     "output_type": "execute_result"
    }
   ],
   "source": [
    "school_data_complete_df.head()"
   ]
  },
  {
   "cell_type": "code",
   "execution_count": 319,
   "metadata": {},
   "outputs": [
    {
     "data": {
      "text/plain": [
       "15"
      ]
     },
     "execution_count": 319,
     "metadata": {},
     "output_type": "execute_result"
    }
   ],
   "source": [
    "total_number_of_schools = len(school_data_complete_df[\"school_name\"].unique())\n",
    "total_number_of_schools"
   ]
  },
  {
   "cell_type": "code",
   "execution_count": 320,
   "metadata": {},
   "outputs": [
    {
     "data": {
      "text/plain": [
       "39170"
      ]
     },
     "execution_count": 320,
     "metadata": {},
     "output_type": "execute_result"
    }
   ],
   "source": [
    "total_number_of_students = school_data_df[\"size\"].sum()\n",
    "total_number_of_students"
   ]
  },
  {
   "cell_type": "code",
   "execution_count": 321,
   "metadata": {},
   "outputs": [
    {
     "data": {
      "text/plain": [
       "24649428"
      ]
     },
     "execution_count": 321,
     "metadata": {},
     "output_type": "execute_result"
    }
   ],
   "source": [
    "total_budget = school_data_df[\"budget\"].sum()\n",
    "total_budget"
   ]
  },
  {
   "cell_type": "code",
   "execution_count": 322,
   "metadata": {},
   "outputs": [
    {
     "data": {
      "text/plain": [
       "70.33819249425581"
      ]
     },
     "execution_count": 322,
     "metadata": {},
     "output_type": "execute_result"
    }
   ],
   "source": [
    "average_maths_score = school_data_complete_df[\"maths_score\"].mean()\n",
    "average_maths_score"
   ]
  },
  {
   "cell_type": "code",
   "execution_count": 323,
   "metadata": {},
   "outputs": [
    {
     "data": {
      "text/plain": [
       "69.98013786060761"
      ]
     },
     "execution_count": 323,
     "metadata": {},
     "output_type": "execute_result"
    }
   ],
   "source": [
    "average_reading_score = school_data_complete_df[\"reading_score\"].mean()\n",
    "average_reading_score"
   ]
  },
  {
   "cell_type": "code",
   "execution_count": 334,
   "metadata": {},
   "outputs": [
    {
     "data": {
      "text/plain": [
       "33717"
      ]
     },
     "execution_count": 334,
     "metadata": {},
     "output_type": "execute_result"
    }
   ],
   "source": [
    "Passing_maths = school_data_complete_df[\"maths_score\"].loc[school_data_complete_df.maths_score > 49].count()\n",
    "Passing_maths\n"
   ]
  },
  {
   "cell_type": "code",
   "execution_count": 335,
   "metadata": {},
   "outputs": [
    {
     "data": {
      "text/plain": [
       "86.07863160582077"
      ]
     },
     "execution_count": 335,
     "metadata": {},
     "output_type": "execute_result"
    }
   ],
   "source": [
    "Percent_Passing_maths = (Passing_maths/total_number_of_students)*100\n",
    "Percent_Passing_maths"
   ]
  },
  {
   "cell_type": "code",
   "execution_count": 336,
   "metadata": {},
   "outputs": [
    {
     "data": {
      "text/plain": [
       "33070"
      ]
     },
     "execution_count": 336,
     "metadata": {},
     "output_type": "execute_result"
    }
   ],
   "source": [
    "Passing_reading = school_data_complete_df[\"reading_score\"].loc[school_data_complete_df.reading_score > 49].count()\n",
    "Passing_reading"
   ]
  },
  {
   "cell_type": "code",
   "execution_count": 337,
   "metadata": {},
   "outputs": [
    {
     "data": {
      "text/plain": [
       "84.42685728874139"
      ]
     },
     "execution_count": 337,
     "metadata": {},
     "output_type": "execute_result"
    }
   ],
   "source": [
    "Percent_Passing_reading = (Passing_reading/total_number_of_students)*100\n",
    "Percent_Passing_reading"
   ]
  },
  {
   "cell_type": "code",
   "execution_count": 345,
   "metadata": {},
   "outputs": [
    {
     "data": {
      "text/plain": [
       "28519"
      ]
     },
     "execution_count": 345,
     "metadata": {},
     "output_type": "execute_result"
    }
   ],
   "source": [
    "total_passing_maths_reading = school_data_complete_df[\"maths_score\"].loc[(school_data_complete_df[\"maths_score\"] > 49) & (school_data_complete_df[\"reading_score\"] > 49)]\n",
    "total_passing_maths_reading.count()"
   ]
  },
  {
   "cell_type": "code",
   "execution_count": 346,
   "metadata": {},
   "outputs": [
    {
     "data": {
      "text/plain": [
       "72.80827163645647"
      ]
     },
     "execution_count": 346,
     "metadata": {},
     "output_type": "execute_result"
    }
   ],
   "source": [
    "total_passing_maths_reading = (total_passing_maths_reading.count()/total_number_of_students)*100\n",
    "total_passing_maths_reading\n"
   ]
  },
  {
   "cell_type": "code",
   "execution_count": 347,
   "metadata": {},
   "outputs": [
    {
     "data": {
      "text/html": [
       "<div>\n",
       "<style scoped>\n",
       "    .dataframe tbody tr th:only-of-type {\n",
       "        vertical-align: middle;\n",
       "    }\n",
       "\n",
       "    .dataframe tbody tr th {\n",
       "        vertical-align: top;\n",
       "    }\n",
       "\n",
       "    .dataframe thead th {\n",
       "        text-align: right;\n",
       "    }\n",
       "</style>\n",
       "<table border=\"1\" class=\"dataframe\">\n",
       "  <thead>\n",
       "    <tr style=\"text-align: right;\">\n",
       "      <th></th>\n",
       "      <th>Total Schools</th>\n",
       "      <th>Total Students</th>\n",
       "      <th>Total Budget</th>\n",
       "      <th>Average Maths Score</th>\n",
       "      <th>Average Reading Score</th>\n",
       "      <th>% Passing Maths</th>\n",
       "      <th>% Passing Reading</th>\n",
       "      <th>% Overall Passing</th>\n",
       "    </tr>\n",
       "  </thead>\n",
       "  <tbody>\n",
       "    <tr>\n",
       "      <th>0</th>\n",
       "      <td>15</td>\n",
       "      <td>39170</td>\n",
       "      <td>24649428</td>\n",
       "      <td>70.338192</td>\n",
       "      <td>69.980138</td>\n",
       "      <td>86.078632</td>\n",
       "      <td>84.426857</td>\n",
       "      <td>72.808272</td>\n",
       "    </tr>\n",
       "  </tbody>\n",
       "</table>\n",
       "</div>"
      ],
      "text/plain": [
       "   Total Schools  Total Students  Total Budget  Average Maths Score  \\\n",
       "0             15           39170      24649428            70.338192   \n",
       "\n",
       "   Average Reading Score  % Passing Maths  % Passing Reading  \\\n",
       "0              69.980138        86.078632          84.426857   \n",
       "\n",
       "   % Overall Passing  \n",
       "0          72.808272  "
      ]
     },
     "execution_count": 347,
     "metadata": {},
     "output_type": "execute_result"
    }
   ],
   "source": [
    "local_gov_area_summary_df = pd.DataFrame ({\"Total Schools\":[total_number_of_schools], \"Total Students\":[total_number_of_students], \"Total Budget\":[total_budget], \"Average Maths Score\":[average_maths_score], \"Average Reading Score\":[average_reading_score], \"% Passing Maths\":[Percent_Passing_maths], \"% Passing Reading\":[Percent_Passing_reading], \"% Overall Passing\":[total_passing_maths_reading]})\n",
    "local_gov_area_summary_df.head()"
   ]
  },
  {
   "cell_type": "markdown",
   "metadata": {},
   "source": [
    "## Local Government Area Summary\n",
    "\n",
    "* Calculate the total number of schools\n",
    "\n",
    "* Calculate the total number of students\n",
    "\n",
    "* Calculate the total budget\n",
    "\n",
    "* Calculate the average maths score \n",
    "\n",
    "* Calculate the average reading score\n",
    "\n",
    "* Calculate the percentage of students with a passing maths score (50 or greater)\n",
    "\n",
    "* Calculate the percentage of students with a passing reading score (50 or greater)\n",
    "\n",
    "* Calculate the percentage of students who passed maths **and** reading (% Overall Passing)\n",
    "\n",
    "* Create a dataframe to hold the above results\n",
    "\n",
    "* Optional: give the displayed data cleaner formatting"
   ]
  },
  {
   "cell_type": "markdown",
   "metadata": {},
   "source": [
    "## School Summary"
   ]
  },
  {
   "cell_type": "markdown",
   "metadata": {},
   "source": [
    "* Create an overview table that summarises key metrics about each school, including:\n",
    "  * School Name\n",
    "  * School Type\n",
    "  * Total Students\n",
    "  * Total School Budget\n",
    "  * Per Student Budget\n",
    "  * Average Maths Score\n",
    "  * Average Reading Score\n",
    "  * % Passing Maths\n",
    "  * % Passing Reading\n",
    "  * % Overall Passing (The percentage of students that passed maths **and** reading.)\n",
    "  \n",
    "* Create a dataframe to hold the above results"
   ]
  },
  {
   "cell_type": "code",
   "execution_count": 348,
   "metadata": {},
   "outputs": [
    {
     "data": {
      "text/html": [
       "<div>\n",
       "<style scoped>\n",
       "    .dataframe tbody tr th:only-of-type {\n",
       "        vertical-align: middle;\n",
       "    }\n",
       "\n",
       "    .dataframe tbody tr th {\n",
       "        vertical-align: top;\n",
       "    }\n",
       "\n",
       "    .dataframe thead th {\n",
       "        text-align: right;\n",
       "    }\n",
       "</style>\n",
       "<table border=\"1\" class=\"dataframe\">\n",
       "  <thead>\n",
       "    <tr style=\"text-align: right;\">\n",
       "      <th></th>\n",
       "      <th>school_name</th>\n",
       "      <th>type</th>\n",
       "      <th>size</th>\n",
       "      <th>budget</th>\n",
       "      <th>year</th>\n",
       "      <th>maths_score</th>\n",
       "      <th>reading_score</th>\n",
       "    </tr>\n",
       "  </thead>\n",
       "  <tbody>\n",
       "    <tr>\n",
       "      <th>0</th>\n",
       "      <td>Huang High School</td>\n",
       "      <td>Government</td>\n",
       "      <td>2917</td>\n",
       "      <td>1910635</td>\n",
       "      <td>9</td>\n",
       "      <td>94</td>\n",
       "      <td>96</td>\n",
       "    </tr>\n",
       "    <tr>\n",
       "      <th>1</th>\n",
       "      <td>Huang High School</td>\n",
       "      <td>Government</td>\n",
       "      <td>2917</td>\n",
       "      <td>1910635</td>\n",
       "      <td>12</td>\n",
       "      <td>43</td>\n",
       "      <td>90</td>\n",
       "    </tr>\n",
       "    <tr>\n",
       "      <th>2</th>\n",
       "      <td>Huang High School</td>\n",
       "      <td>Government</td>\n",
       "      <td>2917</td>\n",
       "      <td>1910635</td>\n",
       "      <td>12</td>\n",
       "      <td>76</td>\n",
       "      <td>41</td>\n",
       "    </tr>\n",
       "    <tr>\n",
       "      <th>3</th>\n",
       "      <td>Huang High School</td>\n",
       "      <td>Government</td>\n",
       "      <td>2917</td>\n",
       "      <td>1910635</td>\n",
       "      <td>12</td>\n",
       "      <td>86</td>\n",
       "      <td>89</td>\n",
       "    </tr>\n",
       "    <tr>\n",
       "      <th>4</th>\n",
       "      <td>Huang High School</td>\n",
       "      <td>Government</td>\n",
       "      <td>2917</td>\n",
       "      <td>1910635</td>\n",
       "      <td>9</td>\n",
       "      <td>69</td>\n",
       "      <td>87</td>\n",
       "    </tr>\n",
       "  </tbody>\n",
       "</table>\n",
       "</div>"
      ],
      "text/plain": [
       "         school_name        type  size   budget  year  maths_score  \\\n",
       "0  Huang High School  Government  2917  1910635     9           94   \n",
       "1  Huang High School  Government  2917  1910635    12           43   \n",
       "2  Huang High School  Government  2917  1910635    12           76   \n",
       "3  Huang High School  Government  2917  1910635    12           86   \n",
       "4  Huang High School  Government  2917  1910635     9           69   \n",
       "\n",
       "   reading_score  \n",
       "0             96  \n",
       "1             90  \n",
       "2             41  \n",
       "3             89  \n",
       "4             87  "
      ]
     },
     "execution_count": 348,
     "metadata": {},
     "output_type": "execute_result"
    }
   ],
   "source": [
    "organized_df = school_data_complete_df[[\"school_name\",\"type\",\"size\",\"budget\",'year','maths_score','reading_score']]\n",
    "organized_df.head()"
   ]
  },
  {
   "cell_type": "code",
   "execution_count": 349,
   "metadata": {},
   "outputs": [
    {
     "data": {
      "text/html": [
       "<div>\n",
       "<style scoped>\n",
       "    .dataframe tbody tr th:only-of-type {\n",
       "        vertical-align: middle;\n",
       "    }\n",
       "\n",
       "    .dataframe tbody tr th {\n",
       "        vertical-align: top;\n",
       "    }\n",
       "\n",
       "    .dataframe thead th {\n",
       "        text-align: right;\n",
       "    }\n",
       "</style>\n",
       "<table border=\"1\" class=\"dataframe\">\n",
       "  <thead>\n",
       "    <tr style=\"text-align: right;\">\n",
       "      <th></th>\n",
       "      <th>School Name</th>\n",
       "      <th>School Type</th>\n",
       "      <th>Total Students</th>\n",
       "      <th>Total School Budget</th>\n",
       "      <th>Year</th>\n",
       "      <th>Maths Score</th>\n",
       "      <th>Reading Score</th>\n",
       "    </tr>\n",
       "  </thead>\n",
       "  <tbody>\n",
       "    <tr>\n",
       "      <th>0</th>\n",
       "      <td>Huang High School</td>\n",
       "      <td>Government</td>\n",
       "      <td>2917</td>\n",
       "      <td>1910635</td>\n",
       "      <td>9</td>\n",
       "      <td>94</td>\n",
       "      <td>96</td>\n",
       "    </tr>\n",
       "    <tr>\n",
       "      <th>1</th>\n",
       "      <td>Huang High School</td>\n",
       "      <td>Government</td>\n",
       "      <td>2917</td>\n",
       "      <td>1910635</td>\n",
       "      <td>12</td>\n",
       "      <td>43</td>\n",
       "      <td>90</td>\n",
       "    </tr>\n",
       "    <tr>\n",
       "      <th>2</th>\n",
       "      <td>Huang High School</td>\n",
       "      <td>Government</td>\n",
       "      <td>2917</td>\n",
       "      <td>1910635</td>\n",
       "      <td>12</td>\n",
       "      <td>76</td>\n",
       "      <td>41</td>\n",
       "    </tr>\n",
       "    <tr>\n",
       "      <th>3</th>\n",
       "      <td>Huang High School</td>\n",
       "      <td>Government</td>\n",
       "      <td>2917</td>\n",
       "      <td>1910635</td>\n",
       "      <td>12</td>\n",
       "      <td>86</td>\n",
       "      <td>89</td>\n",
       "    </tr>\n",
       "    <tr>\n",
       "      <th>4</th>\n",
       "      <td>Huang High School</td>\n",
       "      <td>Government</td>\n",
       "      <td>2917</td>\n",
       "      <td>1910635</td>\n",
       "      <td>9</td>\n",
       "      <td>69</td>\n",
       "      <td>87</td>\n",
       "    </tr>\n",
       "  </tbody>\n",
       "</table>\n",
       "</div>"
      ],
      "text/plain": [
       "         School Name School Type  Total Students  Total School Budget  Year  \\\n",
       "0  Huang High School  Government            2917              1910635     9   \n",
       "1  Huang High School  Government            2917              1910635    12   \n",
       "2  Huang High School  Government            2917              1910635    12   \n",
       "3  Huang High School  Government            2917              1910635    12   \n",
       "4  Huang High School  Government            2917              1910635     9   \n",
       "\n",
       "   Maths Score  Reading Score  \n",
       "0           94             96  \n",
       "1           43             90  \n",
       "2           76             41  \n",
       "3           86             89  \n",
       "4           69             87  "
      ]
     },
     "execution_count": 349,
     "metadata": {},
     "output_type": "execute_result"
    }
   ],
   "source": [
    "renamed_df = organized_df.rename(columns={\"school_name\":\"School Name\",\"type\":\"School Type\",\"size\":\"Total Students\",\"budget\":\"Total School Budget\",'year':\"Year\",'maths_score':\"Maths Score\",'reading_score':\"Reading Score\"})\n",
    "renamed_df.head()"
   ]
  },
  {
   "cell_type": "code",
   "execution_count": 350,
   "metadata": {},
   "outputs": [
    {
     "data": {
      "text/plain": [
       "Index(['School Name', 'School Type', 'Total Students', 'Total School Budget',\n",
       "       'Year', 'Maths Score', 'Reading Score'],\n",
       "      dtype='object')"
      ]
     },
     "execution_count": 350,
     "metadata": {},
     "output_type": "execute_result"
    }
   ],
   "source": [
    "renamed_df.columns"
   ]
  },
  {
   "cell_type": "code",
   "execution_count": 362,
   "metadata": {},
   "outputs": [
    {
     "data": {
      "text/plain": [
       "<pandas.core.groupby.generic.DataFrameGroupBy object at 0x7fc90239a0d0>"
      ]
     },
     "execution_count": 362,
     "metadata": {},
     "output_type": "execute_result"
    }
   ],
   "source": [
    "School_Name_Type_group = renamed_df.groupby([\"School Name\", 'School Type','Total Students', 'Total School Budget'])\n",
    "School_Name_Type_group"
   ]
  },
  {
   "cell_type": "code",
   "execution_count": 363,
   "metadata": {},
   "outputs": [
    {
     "data": {
      "text/html": [
       "<div>\n",
       "<style scoped>\n",
       "    .dataframe tbody tr th:only-of-type {\n",
       "        vertical-align: middle;\n",
       "    }\n",
       "\n",
       "    .dataframe tbody tr th {\n",
       "        vertical-align: top;\n",
       "    }\n",
       "\n",
       "    .dataframe thead th {\n",
       "        text-align: right;\n",
       "    }\n",
       "</style>\n",
       "<table border=\"1\" class=\"dataframe\">\n",
       "  <thead>\n",
       "    <tr style=\"text-align: right;\">\n",
       "      <th></th>\n",
       "      <th></th>\n",
       "      <th></th>\n",
       "      <th></th>\n",
       "      <th>Year</th>\n",
       "      <th>Maths Score</th>\n",
       "      <th>Reading Score</th>\n",
       "    </tr>\n",
       "    <tr>\n",
       "      <th>School Name</th>\n",
       "      <th>School Type</th>\n",
       "      <th>Total Students</th>\n",
       "      <th>Total School Budget</th>\n",
       "      <th></th>\n",
       "      <th></th>\n",
       "      <th></th>\n",
       "    </tr>\n",
       "  </thead>\n",
       "  <tbody>\n",
       "    <tr>\n",
       "      <th>Bailey High School</th>\n",
       "      <th>Government</th>\n",
       "      <th>4976</th>\n",
       "      <th>3124928</th>\n",
       "      <td>51609</td>\n",
       "      <td>360028</td>\n",
       "      <td>353340</td>\n",
       "    </tr>\n",
       "    <tr>\n",
       "      <th>Cabrera High School</th>\n",
       "      <th>Independent</th>\n",
       "      <th>1858</th>\n",
       "      <th>1081356</th>\n",
       "      <td>19298</td>\n",
       "      <td>133139</td>\n",
       "      <td>132586</td>\n",
       "    </tr>\n",
       "    <tr>\n",
       "      <th>Figueroa High School</th>\n",
       "      <th>Government</th>\n",
       "      <th>2949</th>\n",
       "      <th>1884411</th>\n",
       "      <td>30585</td>\n",
       "      <td>202592</td>\n",
       "      <td>203711</td>\n",
       "    </tr>\n",
       "    <tr>\n",
       "      <th>Ford High School</th>\n",
       "      <th>Government</th>\n",
       "      <th>2739</th>\n",
       "      <th>1763916</th>\n",
       "      <td>28294</td>\n",
       "      <td>189241</td>\n",
       "      <td>190559</td>\n",
       "    </tr>\n",
       "    <tr>\n",
       "      <th>Griffin High School</th>\n",
       "      <th>Independent</th>\n",
       "      <th>1468</th>\n",
       "      <th>917500</th>\n",
       "      <td>15216</td>\n",
       "      <td>105385</td>\n",
       "      <td>104588</td>\n",
       "    </tr>\n",
       "    <tr>\n",
       "      <th>Hernandez High School</th>\n",
       "      <th>Government</th>\n",
       "      <th>4635</th>\n",
       "      <th>3022020</th>\n",
       "      <td>47932</td>\n",
       "      <td>319235</td>\n",
       "      <td>320679</td>\n",
       "    </tr>\n",
       "    <tr>\n",
       "      <th>Holden High School</th>\n",
       "      <th>Independent</th>\n",
       "      <th>427</th>\n",
       "      <th>248087</th>\n",
       "      <td>4412</td>\n",
       "      <td>30993</td>\n",
       "      <td>30599</td>\n",
       "    </tr>\n",
       "    <tr>\n",
       "      <th>Huang High School</th>\n",
       "      <th>Government</th>\n",
       "      <th>2917</th>\n",
       "      <th>1910635</th>\n",
       "      <td>30217</td>\n",
       "      <td>201084</td>\n",
       "      <td>201012</td>\n",
       "    </tr>\n",
       "    <tr>\n",
       "      <th>Johnson High School</th>\n",
       "      <th>Government</th>\n",
       "      <th>4761</th>\n",
       "      <th>3094650</th>\n",
       "      <td>49280</td>\n",
       "      <td>327762</td>\n",
       "      <td>328696</td>\n",
       "    </tr>\n",
       "    <tr>\n",
       "      <th>Pena High School</th>\n",
       "      <th>Independent</th>\n",
       "      <th>962</th>\n",
       "      <th>585858</th>\n",
       "      <td>9963</td>\n",
       "      <td>69349</td>\n",
       "      <td>68892</td>\n",
       "    </tr>\n",
       "    <tr>\n",
       "      <th>Rodriguez High School</th>\n",
       "      <th>Government</th>\n",
       "      <th>3999</th>\n",
       "      <th>2547363</th>\n",
       "      <td>41410</td>\n",
       "      <td>288119</td>\n",
       "      <td>283673</td>\n",
       "    </tr>\n",
       "    <tr>\n",
       "      <th>Shelton High School</th>\n",
       "      <th>Independent</th>\n",
       "      <th>1761</th>\n",
       "      <th>1056600</th>\n",
       "      <td>18234</td>\n",
       "      <td>126852</td>\n",
       "      <td>123724</td>\n",
       "    </tr>\n",
       "    <tr>\n",
       "      <th>Thomas High School</th>\n",
       "      <th>Independent</th>\n",
       "      <th>1635</th>\n",
       "      <th>1043130</th>\n",
       "      <td>16980</td>\n",
       "      <td>113766</td>\n",
       "      <td>114072</td>\n",
       "    </tr>\n",
       "    <tr>\n",
       "      <th>Wilson High School</th>\n",
       "      <th>Independent</th>\n",
       "      <th>2283</th>\n",
       "      <th>1319574</th>\n",
       "      <td>23692</td>\n",
       "      <td>157917</td>\n",
       "      <td>157246</td>\n",
       "    </tr>\n",
       "    <tr>\n",
       "      <th>Wright High School</th>\n",
       "      <th>Independent</th>\n",
       "      <th>1800</th>\n",
       "      <th>1049400</th>\n",
       "      <td>18663</td>\n",
       "      <td>129685</td>\n",
       "      <td>127745</td>\n",
       "    </tr>\n",
       "  </tbody>\n",
       "</table>\n",
       "</div>"
      ],
      "text/plain": [
       "                                                                       Year  \\\n",
       "School Name           School Type Total Students Total School Budget          \n",
       "Bailey High School    Government  4976           3124928              51609   \n",
       "Cabrera High School   Independent 1858           1081356              19298   \n",
       "Figueroa High School  Government  2949           1884411              30585   \n",
       "Ford High School      Government  2739           1763916              28294   \n",
       "Griffin High School   Independent 1468           917500               15216   \n",
       "Hernandez High School Government  4635           3022020              47932   \n",
       "Holden High School    Independent 427            248087                4412   \n",
       "Huang High School     Government  2917           1910635              30217   \n",
       "Johnson High School   Government  4761           3094650              49280   \n",
       "Pena High School      Independent 962            585858                9963   \n",
       "Rodriguez High School Government  3999           2547363              41410   \n",
       "Shelton High School   Independent 1761           1056600              18234   \n",
       "Thomas High School    Independent 1635           1043130              16980   \n",
       "Wilson High School    Independent 2283           1319574              23692   \n",
       "Wright High School    Independent 1800           1049400              18663   \n",
       "\n",
       "                                                                      Maths Score  \\\n",
       "School Name           School Type Total Students Total School Budget                \n",
       "Bailey High School    Government  4976           3124928                   360028   \n",
       "Cabrera High School   Independent 1858           1081356                   133139   \n",
       "Figueroa High School  Government  2949           1884411                   202592   \n",
       "Ford High School      Government  2739           1763916                   189241   \n",
       "Griffin High School   Independent 1468           917500                    105385   \n",
       "Hernandez High School Government  4635           3022020                   319235   \n",
       "Holden High School    Independent 427            248087                     30993   \n",
       "Huang High School     Government  2917           1910635                   201084   \n",
       "Johnson High School   Government  4761           3094650                   327762   \n",
       "Pena High School      Independent 962            585858                     69349   \n",
       "Rodriguez High School Government  3999           2547363                   288119   \n",
       "Shelton High School   Independent 1761           1056600                   126852   \n",
       "Thomas High School    Independent 1635           1043130                   113766   \n",
       "Wilson High School    Independent 2283           1319574                   157917   \n",
       "Wright High School    Independent 1800           1049400                   129685   \n",
       "\n",
       "                                                                      Reading Score  \n",
       "School Name           School Type Total Students Total School Budget                 \n",
       "Bailey High School    Government  4976           3124928                     353340  \n",
       "Cabrera High School   Independent 1858           1081356                     132586  \n",
       "Figueroa High School  Government  2949           1884411                     203711  \n",
       "Ford High School      Government  2739           1763916                     190559  \n",
       "Griffin High School   Independent 1468           917500                      104588  \n",
       "Hernandez High School Government  4635           3022020                     320679  \n",
       "Holden High School    Independent 427            248087                       30599  \n",
       "Huang High School     Government  2917           1910635                     201012  \n",
       "Johnson High School   Government  4761           3094650                     328696  \n",
       "Pena High School      Independent 962            585858                       68892  \n",
       "Rodriguez High School Government  3999           2547363                     283673  \n",
       "Shelton High School   Independent 1761           1056600                     123724  \n",
       "Thomas High School    Independent 1635           1043130                     114072  \n",
       "Wilson High School    Independent 2283           1319574                     157246  \n",
       "Wright High School    Independent 1800           1049400                     127745  "
      ]
     },
     "execution_count": 363,
     "metadata": {},
     "output_type": "execute_result"
    }
   ],
   "source": [
    "School_Name_Type_df = School_Name_Type_group.sum()\n",
    "School_Name_Type_df"
   ]
  },
  {
   "cell_type": "code",
   "execution_count": 365,
   "metadata": {},
   "outputs": [
    {
     "data": {
      "text/html": [
       "<div>\n",
       "<style scoped>\n",
       "    .dataframe tbody tr th:only-of-type {\n",
       "        vertical-align: middle;\n",
       "    }\n",
       "\n",
       "    .dataframe tbody tr th {\n",
       "        vertical-align: top;\n",
       "    }\n",
       "\n",
       "    .dataframe thead th {\n",
       "        text-align: right;\n",
       "    }\n",
       "</style>\n",
       "<table border=\"1\" class=\"dataframe\">\n",
       "  <thead>\n",
       "    <tr style=\"text-align: right;\">\n",
       "      <th></th>\n",
       "      <th>index</th>\n",
       "      <th>School Name</th>\n",
       "      <th>School Type</th>\n",
       "      <th>Total Students</th>\n",
       "      <th>Total School Budget</th>\n",
       "      <th>Year</th>\n",
       "      <th>Maths Score</th>\n",
       "      <th>Reading Score</th>\n",
       "    </tr>\n",
       "  </thead>\n",
       "  <tbody>\n",
       "    <tr>\n",
       "      <th>0</th>\n",
       "      <td>0</td>\n",
       "      <td>Bailey High School</td>\n",
       "      <td>Government</td>\n",
       "      <td>4976</td>\n",
       "      <td>3124928</td>\n",
       "      <td>51609</td>\n",
       "      <td>360028</td>\n",
       "      <td>353340</td>\n",
       "    </tr>\n",
       "    <tr>\n",
       "      <th>1</th>\n",
       "      <td>1</td>\n",
       "      <td>Cabrera High School</td>\n",
       "      <td>Independent</td>\n",
       "      <td>1858</td>\n",
       "      <td>1081356</td>\n",
       "      <td>19298</td>\n",
       "      <td>133139</td>\n",
       "      <td>132586</td>\n",
       "    </tr>\n",
       "    <tr>\n",
       "      <th>2</th>\n",
       "      <td>2</td>\n",
       "      <td>Figueroa High School</td>\n",
       "      <td>Government</td>\n",
       "      <td>2949</td>\n",
       "      <td>1884411</td>\n",
       "      <td>30585</td>\n",
       "      <td>202592</td>\n",
       "      <td>203711</td>\n",
       "    </tr>\n",
       "    <tr>\n",
       "      <th>3</th>\n",
       "      <td>3</td>\n",
       "      <td>Ford High School</td>\n",
       "      <td>Government</td>\n",
       "      <td>2739</td>\n",
       "      <td>1763916</td>\n",
       "      <td>28294</td>\n",
       "      <td>189241</td>\n",
       "      <td>190559</td>\n",
       "    </tr>\n",
       "    <tr>\n",
       "      <th>4</th>\n",
       "      <td>4</td>\n",
       "      <td>Griffin High School</td>\n",
       "      <td>Independent</td>\n",
       "      <td>1468</td>\n",
       "      <td>917500</td>\n",
       "      <td>15216</td>\n",
       "      <td>105385</td>\n",
       "      <td>104588</td>\n",
       "    </tr>\n",
       "    <tr>\n",
       "      <th>5</th>\n",
       "      <td>5</td>\n",
       "      <td>Hernandez High School</td>\n",
       "      <td>Government</td>\n",
       "      <td>4635</td>\n",
       "      <td>3022020</td>\n",
       "      <td>47932</td>\n",
       "      <td>319235</td>\n",
       "      <td>320679</td>\n",
       "    </tr>\n",
       "    <tr>\n",
       "      <th>6</th>\n",
       "      <td>6</td>\n",
       "      <td>Holden High School</td>\n",
       "      <td>Independent</td>\n",
       "      <td>427</td>\n",
       "      <td>248087</td>\n",
       "      <td>4412</td>\n",
       "      <td>30993</td>\n",
       "      <td>30599</td>\n",
       "    </tr>\n",
       "    <tr>\n",
       "      <th>7</th>\n",
       "      <td>7</td>\n",
       "      <td>Huang High School</td>\n",
       "      <td>Government</td>\n",
       "      <td>2917</td>\n",
       "      <td>1910635</td>\n",
       "      <td>30217</td>\n",
       "      <td>201084</td>\n",
       "      <td>201012</td>\n",
       "    </tr>\n",
       "    <tr>\n",
       "      <th>8</th>\n",
       "      <td>8</td>\n",
       "      <td>Johnson High School</td>\n",
       "      <td>Government</td>\n",
       "      <td>4761</td>\n",
       "      <td>3094650</td>\n",
       "      <td>49280</td>\n",
       "      <td>327762</td>\n",
       "      <td>328696</td>\n",
       "    </tr>\n",
       "    <tr>\n",
       "      <th>9</th>\n",
       "      <td>9</td>\n",
       "      <td>Pena High School</td>\n",
       "      <td>Independent</td>\n",
       "      <td>962</td>\n",
       "      <td>585858</td>\n",
       "      <td>9963</td>\n",
       "      <td>69349</td>\n",
       "      <td>68892</td>\n",
       "    </tr>\n",
       "    <tr>\n",
       "      <th>10</th>\n",
       "      <td>10</td>\n",
       "      <td>Rodriguez High School</td>\n",
       "      <td>Government</td>\n",
       "      <td>3999</td>\n",
       "      <td>2547363</td>\n",
       "      <td>41410</td>\n",
       "      <td>288119</td>\n",
       "      <td>283673</td>\n",
       "    </tr>\n",
       "    <tr>\n",
       "      <th>11</th>\n",
       "      <td>11</td>\n",
       "      <td>Shelton High School</td>\n",
       "      <td>Independent</td>\n",
       "      <td>1761</td>\n",
       "      <td>1056600</td>\n",
       "      <td>18234</td>\n",
       "      <td>126852</td>\n",
       "      <td>123724</td>\n",
       "    </tr>\n",
       "    <tr>\n",
       "      <th>12</th>\n",
       "      <td>12</td>\n",
       "      <td>Thomas High School</td>\n",
       "      <td>Independent</td>\n",
       "      <td>1635</td>\n",
       "      <td>1043130</td>\n",
       "      <td>16980</td>\n",
       "      <td>113766</td>\n",
       "      <td>114072</td>\n",
       "    </tr>\n",
       "    <tr>\n",
       "      <th>13</th>\n",
       "      <td>13</td>\n",
       "      <td>Wilson High School</td>\n",
       "      <td>Independent</td>\n",
       "      <td>2283</td>\n",
       "      <td>1319574</td>\n",
       "      <td>23692</td>\n",
       "      <td>157917</td>\n",
       "      <td>157246</td>\n",
       "    </tr>\n",
       "    <tr>\n",
       "      <th>14</th>\n",
       "      <td>14</td>\n",
       "      <td>Wright High School</td>\n",
       "      <td>Independent</td>\n",
       "      <td>1800</td>\n",
       "      <td>1049400</td>\n",
       "      <td>18663</td>\n",
       "      <td>129685</td>\n",
       "      <td>127745</td>\n",
       "    </tr>\n",
       "  </tbody>\n",
       "</table>\n",
       "</div>"
      ],
      "text/plain": [
       "    index            School Name  School Type  Total Students  \\\n",
       "0       0     Bailey High School   Government            4976   \n",
       "1       1    Cabrera High School  Independent            1858   \n",
       "2       2   Figueroa High School   Government            2949   \n",
       "3       3       Ford High School   Government            2739   \n",
       "4       4    Griffin High School  Independent            1468   \n",
       "5       5  Hernandez High School   Government            4635   \n",
       "6       6     Holden High School  Independent             427   \n",
       "7       7      Huang High School   Government            2917   \n",
       "8       8    Johnson High School   Government            4761   \n",
       "9       9       Pena High School  Independent             962   \n",
       "10     10  Rodriguez High School   Government            3999   \n",
       "11     11    Shelton High School  Independent            1761   \n",
       "12     12     Thomas High School  Independent            1635   \n",
       "13     13     Wilson High School  Independent            2283   \n",
       "14     14     Wright High School  Independent            1800   \n",
       "\n",
       "    Total School Budget   Year  Maths Score  Reading Score  \n",
       "0               3124928  51609       360028         353340  \n",
       "1               1081356  19298       133139         132586  \n",
       "2               1884411  30585       202592         203711  \n",
       "3               1763916  28294       189241         190559  \n",
       "4                917500  15216       105385         104588  \n",
       "5               3022020  47932       319235         320679  \n",
       "6                248087   4412        30993          30599  \n",
       "7               1910635  30217       201084         201012  \n",
       "8               3094650  49280       327762         328696  \n",
       "9                585858   9963        69349          68892  \n",
       "10              2547363  41410       288119         283673  \n",
       "11              1056600  18234       126852         123724  \n",
       "12              1043130  16980       113766         114072  \n",
       "13              1319574  23692       157917         157246  \n",
       "14              1049400  18663       129685         127745  "
      ]
     },
     "execution_count": 365,
     "metadata": {},
     "output_type": "execute_result"
    }
   ],
   "source": [
    "School_Name_Type_df.reset_index(inplace=True)\n",
    "School_Name_Type_df"
   ]
  },
  {
   "cell_type": "code",
   "execution_count": 366,
   "metadata": {},
   "outputs": [
    {
     "data": {
      "text/plain": [
       "0     628.0\n",
       "1     582.0\n",
       "2     639.0\n",
       "3     644.0\n",
       "4     625.0\n",
       "5     652.0\n",
       "6     581.0\n",
       "7     655.0\n",
       "8     650.0\n",
       "9     609.0\n",
       "10    637.0\n",
       "11    600.0\n",
       "12    638.0\n",
       "13    578.0\n",
       "14    583.0\n",
       "Name: Per Student Budget, dtype: float64"
      ]
     },
     "execution_count": 366,
     "metadata": {},
     "output_type": "execute_result"
    }
   ],
   "source": [
    "School_Name_Type_df[\"Per Student Budget\"] = School_Name_Type_df[\"Total School Budget\"]/School_Name_Type_df[\"Total Students\"]\n",
    "School_Name_Type_df[\"Per Student Budget\"]"
   ]
  },
  {
   "cell_type": "code",
   "execution_count": 367,
   "metadata": {},
   "outputs": [
    {
     "data": {
      "text/html": [
       "<div>\n",
       "<style scoped>\n",
       "    .dataframe tbody tr th:only-of-type {\n",
       "        vertical-align: middle;\n",
       "    }\n",
       "\n",
       "    .dataframe tbody tr th {\n",
       "        vertical-align: top;\n",
       "    }\n",
       "\n",
       "    .dataframe thead th {\n",
       "        text-align: right;\n",
       "    }\n",
       "</style>\n",
       "<table border=\"1\" class=\"dataframe\">\n",
       "  <thead>\n",
       "    <tr style=\"text-align: right;\">\n",
       "      <th></th>\n",
       "      <th>index</th>\n",
       "      <th>School Name</th>\n",
       "      <th>School Type</th>\n",
       "      <th>Total Students</th>\n",
       "      <th>Total School Budget</th>\n",
       "      <th>Year</th>\n",
       "      <th>Maths Score</th>\n",
       "      <th>Reading Score</th>\n",
       "      <th>Per Student Budget</th>\n",
       "    </tr>\n",
       "  </thead>\n",
       "  <tbody>\n",
       "    <tr>\n",
       "      <th>0</th>\n",
       "      <td>0</td>\n",
       "      <td>Bailey High School</td>\n",
       "      <td>Government</td>\n",
       "      <td>4976</td>\n",
       "      <td>3124928</td>\n",
       "      <td>51609</td>\n",
       "      <td>360028</td>\n",
       "      <td>353340</td>\n",
       "      <td>628.0</td>\n",
       "    </tr>\n",
       "    <tr>\n",
       "      <th>1</th>\n",
       "      <td>1</td>\n",
       "      <td>Cabrera High School</td>\n",
       "      <td>Independent</td>\n",
       "      <td>1858</td>\n",
       "      <td>1081356</td>\n",
       "      <td>19298</td>\n",
       "      <td>133139</td>\n",
       "      <td>132586</td>\n",
       "      <td>582.0</td>\n",
       "    </tr>\n",
       "    <tr>\n",
       "      <th>2</th>\n",
       "      <td>2</td>\n",
       "      <td>Figueroa High School</td>\n",
       "      <td>Government</td>\n",
       "      <td>2949</td>\n",
       "      <td>1884411</td>\n",
       "      <td>30585</td>\n",
       "      <td>202592</td>\n",
       "      <td>203711</td>\n",
       "      <td>639.0</td>\n",
       "    </tr>\n",
       "    <tr>\n",
       "      <th>3</th>\n",
       "      <td>3</td>\n",
       "      <td>Ford High School</td>\n",
       "      <td>Government</td>\n",
       "      <td>2739</td>\n",
       "      <td>1763916</td>\n",
       "      <td>28294</td>\n",
       "      <td>189241</td>\n",
       "      <td>190559</td>\n",
       "      <td>644.0</td>\n",
       "    </tr>\n",
       "    <tr>\n",
       "      <th>4</th>\n",
       "      <td>4</td>\n",
       "      <td>Griffin High School</td>\n",
       "      <td>Independent</td>\n",
       "      <td>1468</td>\n",
       "      <td>917500</td>\n",
       "      <td>15216</td>\n",
       "      <td>105385</td>\n",
       "      <td>104588</td>\n",
       "      <td>625.0</td>\n",
       "    </tr>\n",
       "    <tr>\n",
       "      <th>5</th>\n",
       "      <td>5</td>\n",
       "      <td>Hernandez High School</td>\n",
       "      <td>Government</td>\n",
       "      <td>4635</td>\n",
       "      <td>3022020</td>\n",
       "      <td>47932</td>\n",
       "      <td>319235</td>\n",
       "      <td>320679</td>\n",
       "      <td>652.0</td>\n",
       "    </tr>\n",
       "    <tr>\n",
       "      <th>6</th>\n",
       "      <td>6</td>\n",
       "      <td>Holden High School</td>\n",
       "      <td>Independent</td>\n",
       "      <td>427</td>\n",
       "      <td>248087</td>\n",
       "      <td>4412</td>\n",
       "      <td>30993</td>\n",
       "      <td>30599</td>\n",
       "      <td>581.0</td>\n",
       "    </tr>\n",
       "    <tr>\n",
       "      <th>7</th>\n",
       "      <td>7</td>\n",
       "      <td>Huang High School</td>\n",
       "      <td>Government</td>\n",
       "      <td>2917</td>\n",
       "      <td>1910635</td>\n",
       "      <td>30217</td>\n",
       "      <td>201084</td>\n",
       "      <td>201012</td>\n",
       "      <td>655.0</td>\n",
       "    </tr>\n",
       "    <tr>\n",
       "      <th>8</th>\n",
       "      <td>8</td>\n",
       "      <td>Johnson High School</td>\n",
       "      <td>Government</td>\n",
       "      <td>4761</td>\n",
       "      <td>3094650</td>\n",
       "      <td>49280</td>\n",
       "      <td>327762</td>\n",
       "      <td>328696</td>\n",
       "      <td>650.0</td>\n",
       "    </tr>\n",
       "    <tr>\n",
       "      <th>9</th>\n",
       "      <td>9</td>\n",
       "      <td>Pena High School</td>\n",
       "      <td>Independent</td>\n",
       "      <td>962</td>\n",
       "      <td>585858</td>\n",
       "      <td>9963</td>\n",
       "      <td>69349</td>\n",
       "      <td>68892</td>\n",
       "      <td>609.0</td>\n",
       "    </tr>\n",
       "    <tr>\n",
       "      <th>10</th>\n",
       "      <td>10</td>\n",
       "      <td>Rodriguez High School</td>\n",
       "      <td>Government</td>\n",
       "      <td>3999</td>\n",
       "      <td>2547363</td>\n",
       "      <td>41410</td>\n",
       "      <td>288119</td>\n",
       "      <td>283673</td>\n",
       "      <td>637.0</td>\n",
       "    </tr>\n",
       "    <tr>\n",
       "      <th>11</th>\n",
       "      <td>11</td>\n",
       "      <td>Shelton High School</td>\n",
       "      <td>Independent</td>\n",
       "      <td>1761</td>\n",
       "      <td>1056600</td>\n",
       "      <td>18234</td>\n",
       "      <td>126852</td>\n",
       "      <td>123724</td>\n",
       "      <td>600.0</td>\n",
       "    </tr>\n",
       "    <tr>\n",
       "      <th>12</th>\n",
       "      <td>12</td>\n",
       "      <td>Thomas High School</td>\n",
       "      <td>Independent</td>\n",
       "      <td>1635</td>\n",
       "      <td>1043130</td>\n",
       "      <td>16980</td>\n",
       "      <td>113766</td>\n",
       "      <td>114072</td>\n",
       "      <td>638.0</td>\n",
       "    </tr>\n",
       "    <tr>\n",
       "      <th>13</th>\n",
       "      <td>13</td>\n",
       "      <td>Wilson High School</td>\n",
       "      <td>Independent</td>\n",
       "      <td>2283</td>\n",
       "      <td>1319574</td>\n",
       "      <td>23692</td>\n",
       "      <td>157917</td>\n",
       "      <td>157246</td>\n",
       "      <td>578.0</td>\n",
       "    </tr>\n",
       "    <tr>\n",
       "      <th>14</th>\n",
       "      <td>14</td>\n",
       "      <td>Wright High School</td>\n",
       "      <td>Independent</td>\n",
       "      <td>1800</td>\n",
       "      <td>1049400</td>\n",
       "      <td>18663</td>\n",
       "      <td>129685</td>\n",
       "      <td>127745</td>\n",
       "      <td>583.0</td>\n",
       "    </tr>\n",
       "  </tbody>\n",
       "</table>\n",
       "</div>"
      ],
      "text/plain": [
       "    index            School Name  School Type  Total Students  \\\n",
       "0       0     Bailey High School   Government            4976   \n",
       "1       1    Cabrera High School  Independent            1858   \n",
       "2       2   Figueroa High School   Government            2949   \n",
       "3       3       Ford High School   Government            2739   \n",
       "4       4    Griffin High School  Independent            1468   \n",
       "5       5  Hernandez High School   Government            4635   \n",
       "6       6     Holden High School  Independent             427   \n",
       "7       7      Huang High School   Government            2917   \n",
       "8       8    Johnson High School   Government            4761   \n",
       "9       9       Pena High School  Independent             962   \n",
       "10     10  Rodriguez High School   Government            3999   \n",
       "11     11    Shelton High School  Independent            1761   \n",
       "12     12     Thomas High School  Independent            1635   \n",
       "13     13     Wilson High School  Independent            2283   \n",
       "14     14     Wright High School  Independent            1800   \n",
       "\n",
       "    Total School Budget   Year  Maths Score  Reading Score  Per Student Budget  \n",
       "0               3124928  51609       360028         353340               628.0  \n",
       "1               1081356  19298       133139         132586               582.0  \n",
       "2               1884411  30585       202592         203711               639.0  \n",
       "3               1763916  28294       189241         190559               644.0  \n",
       "4                917500  15216       105385         104588               625.0  \n",
       "5               3022020  47932       319235         320679               652.0  \n",
       "6                248087   4412        30993          30599               581.0  \n",
       "7               1910635  30217       201084         201012               655.0  \n",
       "8               3094650  49280       327762         328696               650.0  \n",
       "9                585858   9963        69349          68892               609.0  \n",
       "10              2547363  41410       288119         283673               637.0  \n",
       "11              1056600  18234       126852         123724               600.0  \n",
       "12              1043130  16980       113766         114072               638.0  \n",
       "13              1319574  23692       157917         157246               578.0  \n",
       "14              1049400  18663       129685         127745               583.0  "
      ]
     },
     "execution_count": 367,
     "metadata": {},
     "output_type": "execute_result"
    }
   ],
   "source": [
    "School_Name_Type_df"
   ]
  },
  {
   "cell_type": "code",
   "execution_count": 368,
   "metadata": {},
   "outputs": [
    {
     "data": {
      "text/plain": [
       "Index(['index', 'School Name', 'School Type', 'Total Students',\n",
       "       'Total School Budget', 'Year', 'Maths Score', 'Reading Score',\n",
       "       'Per Student Budget'],\n",
       "      dtype='object')"
      ]
     },
     "execution_count": 368,
     "metadata": {},
     "output_type": "execute_result"
    }
   ],
   "source": [
    "School_Name_Type_df.columns"
   ]
  },
  {
   "cell_type": "code",
   "execution_count": 369,
   "metadata": {},
   "outputs": [
    {
     "data": {
      "text/html": [
       "<div>\n",
       "<style scoped>\n",
       "    .dataframe tbody tr th:only-of-type {\n",
       "        vertical-align: middle;\n",
       "    }\n",
       "\n",
       "    .dataframe tbody tr th {\n",
       "        vertical-align: top;\n",
       "    }\n",
       "\n",
       "    .dataframe thead th {\n",
       "        text-align: right;\n",
       "    }\n",
       "</style>\n",
       "<table border=\"1\" class=\"dataframe\">\n",
       "  <thead>\n",
       "    <tr style=\"text-align: right;\">\n",
       "      <th></th>\n",
       "      <th>index</th>\n",
       "      <th>School Name</th>\n",
       "      <th>School Type</th>\n",
       "      <th>Total Students</th>\n",
       "      <th>Total School Budget</th>\n",
       "      <th>Per Student Budget</th>\n",
       "      <th>Year</th>\n",
       "      <th>Maths Score</th>\n",
       "      <th>Reading Score</th>\n",
       "    </tr>\n",
       "  </thead>\n",
       "  <tbody>\n",
       "    <tr>\n",
       "      <th>0</th>\n",
       "      <td>0</td>\n",
       "      <td>Bailey High School</td>\n",
       "      <td>Government</td>\n",
       "      <td>4976</td>\n",
       "      <td>3124928</td>\n",
       "      <td>628.0</td>\n",
       "      <td>51609</td>\n",
       "      <td>360028</td>\n",
       "      <td>353340</td>\n",
       "    </tr>\n",
       "    <tr>\n",
       "      <th>1</th>\n",
       "      <td>1</td>\n",
       "      <td>Cabrera High School</td>\n",
       "      <td>Independent</td>\n",
       "      <td>1858</td>\n",
       "      <td>1081356</td>\n",
       "      <td>582.0</td>\n",
       "      <td>19298</td>\n",
       "      <td>133139</td>\n",
       "      <td>132586</td>\n",
       "    </tr>\n",
       "    <tr>\n",
       "      <th>2</th>\n",
       "      <td>2</td>\n",
       "      <td>Figueroa High School</td>\n",
       "      <td>Government</td>\n",
       "      <td>2949</td>\n",
       "      <td>1884411</td>\n",
       "      <td>639.0</td>\n",
       "      <td>30585</td>\n",
       "      <td>202592</td>\n",
       "      <td>203711</td>\n",
       "    </tr>\n",
       "    <tr>\n",
       "      <th>3</th>\n",
       "      <td>3</td>\n",
       "      <td>Ford High School</td>\n",
       "      <td>Government</td>\n",
       "      <td>2739</td>\n",
       "      <td>1763916</td>\n",
       "      <td>644.0</td>\n",
       "      <td>28294</td>\n",
       "      <td>189241</td>\n",
       "      <td>190559</td>\n",
       "    </tr>\n",
       "    <tr>\n",
       "      <th>4</th>\n",
       "      <td>4</td>\n",
       "      <td>Griffin High School</td>\n",
       "      <td>Independent</td>\n",
       "      <td>1468</td>\n",
       "      <td>917500</td>\n",
       "      <td>625.0</td>\n",
       "      <td>15216</td>\n",
       "      <td>105385</td>\n",
       "      <td>104588</td>\n",
       "    </tr>\n",
       "    <tr>\n",
       "      <th>5</th>\n",
       "      <td>5</td>\n",
       "      <td>Hernandez High School</td>\n",
       "      <td>Government</td>\n",
       "      <td>4635</td>\n",
       "      <td>3022020</td>\n",
       "      <td>652.0</td>\n",
       "      <td>47932</td>\n",
       "      <td>319235</td>\n",
       "      <td>320679</td>\n",
       "    </tr>\n",
       "    <tr>\n",
       "      <th>6</th>\n",
       "      <td>6</td>\n",
       "      <td>Holden High School</td>\n",
       "      <td>Independent</td>\n",
       "      <td>427</td>\n",
       "      <td>248087</td>\n",
       "      <td>581.0</td>\n",
       "      <td>4412</td>\n",
       "      <td>30993</td>\n",
       "      <td>30599</td>\n",
       "    </tr>\n",
       "    <tr>\n",
       "      <th>7</th>\n",
       "      <td>7</td>\n",
       "      <td>Huang High School</td>\n",
       "      <td>Government</td>\n",
       "      <td>2917</td>\n",
       "      <td>1910635</td>\n",
       "      <td>655.0</td>\n",
       "      <td>30217</td>\n",
       "      <td>201084</td>\n",
       "      <td>201012</td>\n",
       "    </tr>\n",
       "    <tr>\n",
       "      <th>8</th>\n",
       "      <td>8</td>\n",
       "      <td>Johnson High School</td>\n",
       "      <td>Government</td>\n",
       "      <td>4761</td>\n",
       "      <td>3094650</td>\n",
       "      <td>650.0</td>\n",
       "      <td>49280</td>\n",
       "      <td>327762</td>\n",
       "      <td>328696</td>\n",
       "    </tr>\n",
       "    <tr>\n",
       "      <th>9</th>\n",
       "      <td>9</td>\n",
       "      <td>Pena High School</td>\n",
       "      <td>Independent</td>\n",
       "      <td>962</td>\n",
       "      <td>585858</td>\n",
       "      <td>609.0</td>\n",
       "      <td>9963</td>\n",
       "      <td>69349</td>\n",
       "      <td>68892</td>\n",
       "    </tr>\n",
       "    <tr>\n",
       "      <th>10</th>\n",
       "      <td>10</td>\n",
       "      <td>Rodriguez High School</td>\n",
       "      <td>Government</td>\n",
       "      <td>3999</td>\n",
       "      <td>2547363</td>\n",
       "      <td>637.0</td>\n",
       "      <td>41410</td>\n",
       "      <td>288119</td>\n",
       "      <td>283673</td>\n",
       "    </tr>\n",
       "    <tr>\n",
       "      <th>11</th>\n",
       "      <td>11</td>\n",
       "      <td>Shelton High School</td>\n",
       "      <td>Independent</td>\n",
       "      <td>1761</td>\n",
       "      <td>1056600</td>\n",
       "      <td>600.0</td>\n",
       "      <td>18234</td>\n",
       "      <td>126852</td>\n",
       "      <td>123724</td>\n",
       "    </tr>\n",
       "    <tr>\n",
       "      <th>12</th>\n",
       "      <td>12</td>\n",
       "      <td>Thomas High School</td>\n",
       "      <td>Independent</td>\n",
       "      <td>1635</td>\n",
       "      <td>1043130</td>\n",
       "      <td>638.0</td>\n",
       "      <td>16980</td>\n",
       "      <td>113766</td>\n",
       "      <td>114072</td>\n",
       "    </tr>\n",
       "    <tr>\n",
       "      <th>13</th>\n",
       "      <td>13</td>\n",
       "      <td>Wilson High School</td>\n",
       "      <td>Independent</td>\n",
       "      <td>2283</td>\n",
       "      <td>1319574</td>\n",
       "      <td>578.0</td>\n",
       "      <td>23692</td>\n",
       "      <td>157917</td>\n",
       "      <td>157246</td>\n",
       "    </tr>\n",
       "    <tr>\n",
       "      <th>14</th>\n",
       "      <td>14</td>\n",
       "      <td>Wright High School</td>\n",
       "      <td>Independent</td>\n",
       "      <td>1800</td>\n",
       "      <td>1049400</td>\n",
       "      <td>583.0</td>\n",
       "      <td>18663</td>\n",
       "      <td>129685</td>\n",
       "      <td>127745</td>\n",
       "    </tr>\n",
       "  </tbody>\n",
       "</table>\n",
       "</div>"
      ],
      "text/plain": [
       "    index            School Name  School Type  Total Students  \\\n",
       "0       0     Bailey High School   Government            4976   \n",
       "1       1    Cabrera High School  Independent            1858   \n",
       "2       2   Figueroa High School   Government            2949   \n",
       "3       3       Ford High School   Government            2739   \n",
       "4       4    Griffin High School  Independent            1468   \n",
       "5       5  Hernandez High School   Government            4635   \n",
       "6       6     Holden High School  Independent             427   \n",
       "7       7      Huang High School   Government            2917   \n",
       "8       8    Johnson High School   Government            4761   \n",
       "9       9       Pena High School  Independent             962   \n",
       "10     10  Rodriguez High School   Government            3999   \n",
       "11     11    Shelton High School  Independent            1761   \n",
       "12     12     Thomas High School  Independent            1635   \n",
       "13     13     Wilson High School  Independent            2283   \n",
       "14     14     Wright High School  Independent            1800   \n",
       "\n",
       "    Total School Budget  Per Student Budget   Year  Maths Score  Reading Score  \n",
       "0               3124928               628.0  51609       360028         353340  \n",
       "1               1081356               582.0  19298       133139         132586  \n",
       "2               1884411               639.0  30585       202592         203711  \n",
       "3               1763916               644.0  28294       189241         190559  \n",
       "4                917500               625.0  15216       105385         104588  \n",
       "5               3022020               652.0  47932       319235         320679  \n",
       "6                248087               581.0   4412        30993          30599  \n",
       "7               1910635               655.0  30217       201084         201012  \n",
       "8               3094650               650.0  49280       327762         328696  \n",
       "9                585858               609.0   9963        69349          68892  \n",
       "10              2547363               637.0  41410       288119         283673  \n",
       "11              1056600               600.0  18234       126852         123724  \n",
       "12              1043130               638.0  16980       113766         114072  \n",
       "13              1319574               578.0  23692       157917         157246  \n",
       "14              1049400               583.0  18663       129685         127745  "
      ]
     },
     "execution_count": 369,
     "metadata": {},
     "output_type": "execute_result"
    }
   ],
   "source": [
    "organized_School_Name_Type_df = School_Name_Type_df[[\"index\",'School Name', 'School Type', 'Total Students','Total School Budget','Per Student Budget','Year', 'Maths Score', 'Reading Score']]\n",
    "organized_School_Name_Type_df"
   ]
  },
  {
   "cell_type": "code",
   "execution_count": 371,
   "metadata": {},
   "outputs": [
    {
     "ename": "TypeError",
     "evalue": "unsupported operand type(s) for /: 'method' and 'list'",
     "output_type": "error",
     "traceback": [
      "\u001b[0;31m---------------------------------------------------------------------------\u001b[0m",
      "\u001b[0;31mTypeError\u001b[0m                                 Traceback (most recent call last)",
      "\u001b[0;32m/var/folders/1q/y8jwtynn6qzf43tk_s6zpzlw0000gn/T/ipykernel_87867/3861860347.py\u001b[0m in \u001b[0;36m<module>\u001b[0;34m\u001b[0m\n\u001b[0;32m----> 1\u001b[0;31m \u001b[0morganized_School_Name_Type_df\u001b[0m\u001b[0;34m[\u001b[0m\u001b[0;34m\"Average Maths Score\"\u001b[0m\u001b[0;34m]\u001b[0m \u001b[0;34m=\u001b[0m \u001b[0morganized_School_Name_Type_df\u001b[0m\u001b[0;34m[\u001b[0m\u001b[0;34m\"Maths Score\"\u001b[0m\u001b[0;34m]\u001b[0m\u001b[0;34m.\u001b[0m\u001b[0msum\u001b[0m\u001b[0;34m/\u001b[0m\u001b[0;34m[\u001b[0m\u001b[0;34m\"Total_students\"\u001b[0m\u001b[0;34m]\u001b[0m\u001b[0;34m\u001b[0m\u001b[0;34m\u001b[0m\u001b[0m\n\u001b[0m\u001b[1;32m      2\u001b[0m \u001b[0morganized_School_Name_Type_df\u001b[0m\u001b[0;34m[\u001b[0m\u001b[0;34m\"Average Maths Score\"\u001b[0m\u001b[0;34m]\u001b[0m\u001b[0;34m\u001b[0m\u001b[0;34m\u001b[0m\u001b[0m\n",
      "\u001b[0;31mTypeError\u001b[0m: unsupported operand type(s) for /: 'method' and 'list'"
     ]
    }
   ],
   "source": [
    "organized_School_Name_Type_df[\"Average Maths Score\"] = organized_School_Name_Type_df[\"Maths Score\"].sum/[\"Total_students\"]\n",
    "organized_School_Name_Type_df[\"Average Maths Score\"]"
   ]
  },
  {
   "cell_type": "code",
   "execution_count": null,
   "metadata": {},
   "outputs": [],
   "source": [
    "school_summary_df = pd.DataFrame (grouped_df[[\"School Name\"]['School Type']['Total Students']['Total School Budget']])\n",
    "school_summary_df"
   ]
  },
  {
   "cell_type": "code",
   "execution_count": null,
   "metadata": {},
   "outputs": [],
   "source": [
    "Total_students_and_budget_df = pd.DataFrame(grouped_df[[]])"
   ]
  },
  {
   "cell_type": "code",
   "execution_count": null,
   "metadata": {},
   "outputs": [],
   "source": [
    "Total_students_and_budget_df = grouped_df[[\"Total Students\", \"Total School Budget\"]]\n",
    "Total_students_and_budget_df "
   ]
  },
  {
   "cell_type": "code",
   "execution_count": null,
   "metadata": {},
   "outputs": [],
   "source": [
    "Bailey_High_School_df = grouped_df[['School Name', 'School Type', 'Total Students', 'Total School Budget',\n",
    "       'Year', 'Maths Score', 'Reading Score']]\n",
    "Cabrera_High_School_df =\n",
    "Figueroa_High_School_df =\n",
    "Ford_High_School_df =\n",
    "Griffin_High_School_df =\t\n",
    "Hernandez_High_School_df =\n",
    "Holden_High_School_df =\n",
    "Huang_High_School_df =\n",
    "Johnson_High_School_df = \n",
    "Pena_High_School_df =\n",
    "Rodriguez_High_School_df =\t\n",
    "Shelton_High_School_df =\n",
    "Thomas_High_School_df =\n",
    "Wilson_High_School_df =\n",
    "Wright_High_School_df =\n"
   ]
  },
  {
   "cell_type": "code",
   "execution_count": null,
   "metadata": {},
   "outputs": [],
   "source": [
    "Schools = renamed_df[\"School Name\"].unique()\n",
    "Schools"
   ]
  },
  {
   "cell_type": "code",
   "execution_count": null,
   "metadata": {},
   "outputs": [],
   "source": [
    "Huang_High_School_df = renamed_df.groupby[\"School Name\", \"School Type\", \"Total Students\", \"Total School Budget\"]\n",
    "budget_df = grouped_df.reset_index(drop=True)\n",
    "budget_df.head()\n"
   ]
  },
  {
   "cell_type": "code",
   "execution_count": null,
   "metadata": {},
   "outputs": [],
   "source": [
    "grouped_df[[]]"
   ]
  },
  {
   "cell_type": "code",
   "execution_count": null,
   "metadata": {},
   "outputs": [],
   "source": [
    "school_summary_df = grouped_df.set_index(\"School Name\")\n",
    "school_summary_df.head()"
   ]
  },
  {
   "cell_type": "code",
   "execution_count": null,
   "metadata": {},
   "outputs": [],
   "source": [
    "school_summary_df([{\"School Name\":'school_name', \"Total Students\":'size', \"Total Budget\":'budget', \"Average Maths Score\":'average_maths_score', \"Average Reading Score\":'average_reading_score', \"% Passing Maths\":'Percent_Passing_maths', \"% Passing Reading\":'Percent_Passing_reading', \"% Overall Passing\":'total_passing_maths_reading'}])"
   ]
  },
  {
   "cell_type": "code",
   "execution_count": null,
   "metadata": {},
   "outputs": [],
   "source": [
    "'Student ID', 'student_name', 'gender', 'year', 'school_name',\n",
    "       'reading_score', 'maths_score', 'School ID', 'type', 'size', 'budget'"
   ]
  },
  {
   "cell_type": "code",
   "execution_count": null,
   "metadata": {},
   "outputs": [],
   "source": [
    "school_summary_df = pd.DataFrame ([{\"School Name\":'school_name', \"Total Students\":'size', \"Total Budget\":'budget', \"Average Maths Score\":'average_maths_score', \"Average Reading Score\":'average_reading_score', \"% Passing Maths\":'Percent_Passing_maths', \"% Passing Reading\":'Percent_Passing_reading', \"% Overall Passing\":'total_passing_maths_reading'}])\n",
    "school_summary_df.head()"
   ]
  },
  {
   "cell_type": "markdown",
   "metadata": {},
   "source": [
    "## Top Performing Schools (By % Overall Passing)"
   ]
  },
  {
   "cell_type": "markdown",
   "metadata": {},
   "source": [
    "* Sort and display the top five performing schools by % overall passing."
   ]
  },
  {
   "cell_type": "code",
   "execution_count": null,
   "metadata": {
    "scrolled": true
   },
   "outputs": [],
   "source": []
  },
  {
   "cell_type": "markdown",
   "metadata": {},
   "source": [
    "## Bottom Performing Schools (By % Overall Passing)"
   ]
  },
  {
   "cell_type": "markdown",
   "metadata": {},
   "source": [
    "* Sort and display the five worst-performing schools by % overall passing."
   ]
  },
  {
   "cell_type": "code",
   "execution_count": null,
   "metadata": {},
   "outputs": [],
   "source": []
  },
  {
   "cell_type": "markdown",
   "metadata": {
    "collapsed": true
   },
   "source": [
    "## Maths Scores by Year"
   ]
  },
  {
   "cell_type": "markdown",
   "metadata": {},
   "source": [
    "* Create a table that lists the average maths score for students of each year level (9, 10, 11, 12) at each school.\n",
    "\n",
    "  * Create a pandas series for each year. Hint: use a conditional statement.\n",
    "  \n",
    "  * Group each series by school\n",
    "  \n",
    "  * Combine the series into a dataframe\n",
    "  \n",
    "  * Optional: give the displayed data cleaner formatting"
   ]
  },
  {
   "cell_type": "code",
   "execution_count": null,
   "metadata": {},
   "outputs": [],
   "source": []
  },
  {
   "cell_type": "markdown",
   "metadata": {},
   "source": [
    "## Reading Score by Year"
   ]
  },
  {
   "cell_type": "markdown",
   "metadata": {},
   "source": [
    "* Perform the same operations as above for reading scores"
   ]
  },
  {
   "cell_type": "code",
   "execution_count": null,
   "metadata": {},
   "outputs": [],
   "source": []
  },
  {
   "cell_type": "markdown",
   "metadata": {},
   "source": [
    "## Scores by School Spending"
   ]
  },
  {
   "cell_type": "markdown",
   "metadata": {},
   "source": [
    "* Create a table that breaks down school performances based on average Spending Ranges (Per Student). Use 4 reasonable bins to group school spending. Include in the table each of the following:\n",
    "  * Average Maths Score\n",
    "  * Average Reading Score\n",
    "  * % Passing Maths\n",
    "  * % Passing Reading\n",
    "  * Overall Passing Rate (Average of the above two)"
   ]
  },
  {
   "cell_type": "code",
   "execution_count": null,
   "metadata": {},
   "outputs": [],
   "source": []
  },
  {
   "cell_type": "markdown",
   "metadata": {},
   "source": [
    "## Scores by School Size"
   ]
  },
  {
   "cell_type": "markdown",
   "metadata": {},
   "source": [
    "* Perform the same operations as above, based on school size."
   ]
  },
  {
   "cell_type": "code",
   "execution_count": null,
   "metadata": {
    "scrolled": true
   },
   "outputs": [],
   "source": []
  },
  {
   "cell_type": "markdown",
   "metadata": {},
   "source": [
    "## Scores by School Type"
   ]
  },
  {
   "cell_type": "markdown",
   "metadata": {},
   "source": [
    "* Perform the same operations as above, based on school type"
   ]
  },
  {
   "cell_type": "code",
   "execution_count": null,
   "metadata": {},
   "outputs": [],
   "source": []
  },
  {
   "cell_type": "code",
   "execution_count": null,
   "metadata": {},
   "outputs": [],
   "source": []
  }
 ],
 "metadata": {
  "anaconda-cloud": {},
  "kernel_info": {
   "name": "python3"
  },
  "kernelspec": {
   "display_name": "PythonData",
   "language": "python",
   "name": "python3"
  },
  "language_info": {
   "codemirror_mode": {
    "name": "ipython",
    "version": 3
   },
   "file_extension": ".py",
   "mimetype": "text/x-python",
   "name": "python",
   "nbconvert_exporter": "python",
   "pygments_lexer": "ipython3",
   "version": "3.7.7"
  },
  "latex_envs": {
   "LaTeX_envs_menu_present": true,
   "autoclose": false,
   "autocomplete": true,
   "bibliofile": "biblio.bib",
   "cite_by": "apalike",
   "current_citInitial": 1,
   "eqLabelWithNumbers": true,
   "eqNumInitial": 1,
   "hotkeys": {
    "equation": "Ctrl-E",
    "itemize": "Ctrl-I"
   },
   "labels_anchors": false,
   "latex_user_defs": false,
   "report_style_numbering": false,
   "user_envs_cfg": false
  },
  "nteract": {
   "version": "0.8.4"
  },
  "vscode": {
   "interpreter": {
    "hash": "7db2a412b11edafb391183ba42ce38835c9a015e2a8dbcaea088651dc9739e2d"
   }
  }
 },
 "nbformat": 4,
 "nbformat_minor": 1
}
